{
 "cells": [
  {
   "cell_type": "code",
   "execution_count": 1,
   "metadata": {},
   "outputs": [],
   "source": [
    "import csv"
   ]
  },
  {
   "cell_type": "code",
   "execution_count": 2,
   "metadata": {},
   "outputs": [],
   "source": [
    "from data_cleaning_tools import yield_increasing_datapoints\n",
    "from data_cleaning_tools import clean_data"
   ]
  },
  {
   "cell_type": "code",
   "execution_count": 3,
   "metadata": {},
   "outputs": [
    {
     "name": "stdout",
     "output_type": "stream",
     "text": [
      "['0.000', '0.000', True]\n",
      "['0.625', '0.000', True]\n",
      "['1.249', '0.011', True]\n",
      "['1.875', '0.037', True]\n",
      "['3.000', '0.048', True]\n",
      "['3.625', '0.062', True]\n",
      "['4.249', '0.060', False]\n",
      "['4.875', '0.061', False]\n",
      "['5.500', '0.099', True]\n",
      "['6.369', '0.116', True]\n"
     ]
    }
   ],
   "source": [
    "text_data = open(\"sample_data.tsv\", \"r\")\n",
    "\n",
    "results = []\n",
    "for l in yield_increasing_datapoints(text_data):\n",
    "    print(l)\n",
    "    results.append(l)\n"
   ]
  },
  {
   "cell_type": "code",
   "execution_count": 4,
   "metadata": {},
   "outputs": [
    {
     "name": "stdout",
     "output_type": "stream",
     "text": [
      "len(results): 10\n",
      "len(filtered_results): 8\n"
     ]
    }
   ],
   "source": [
    "print(\"len(results): {}\".format(len(results)))\n",
    "print(\"len(filtered_results): {}\".format(len(list( filter(lambda x: x[2], results)  ))))"
   ]
  },
  {
   "cell_type": "code",
   "execution_count": 6,
   "metadata": {},
   "outputs": [
    {
     "name": "stdout",
     "output_type": "stream",
     "text": [
      "processed: 10 rows\n",
      "b'0.000,0.000,True\\r\\n0.625,0.000,True\\r\\n1.249,0.011,True\\r\\n1.875,0.037,True\\r\\n3.000,0.048,True\\r\\n3.625,0.062,True\\r\\n4.249,0.060,False\\r\\n4.875,0.061,False\\r\\n5.500,0.099,True\\r\\n6.369,0.116,True\\r\\n'\n"
     ]
    }
   ],
   "source": [
    "data = open(\"sample_data.tsv\", \"rb\").read()\n",
    "print(clean_data(data))"
   ]
  },
  {
   "cell_type": "code",
   "execution_count": null,
   "metadata": {},
   "outputs": [],
   "source": []
  }
 ],
 "metadata": {
  "kernelspec": {
   "display_name": "Python 3",
   "language": "python",
   "name": "python3"
  },
  "language_info": {
   "codemirror_mode": {
    "name": "ipython",
    "version": 3
   },
   "file_extension": ".py",
   "mimetype": "text/x-python",
   "name": "python",
   "nbconvert_exporter": "python",
   "pygments_lexer": "ipython3",
   "version": "3.5.1"
  }
 },
 "nbformat": 4,
 "nbformat_minor": 2
}
